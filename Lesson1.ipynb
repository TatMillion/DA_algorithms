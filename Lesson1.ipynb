{
 "cells": [
  {
   "cell_type": "markdown",
   "id": "f4804a23",
   "metadata": {},
   "source": [
    "# Урок 1. Алгоритм линейной регрессии. Градиентный спуск\n",
    "\n",
    "1. Подберите скорость обучения (alpha) и количество итераций для градиентного спуска."
   ]
  },
  {
   "cell_type": "code",
   "execution_count": 1,
   "id": "195366e7",
   "metadata": {},
   "outputs": [],
   "source": [
    "import numpy as np\n",
    "import matplotlib.pyplot as plt"
   ]
  },
  {
   "cell_type": "code",
   "execution_count": 2,
   "id": "bac60d66",
   "metadata": {},
   "outputs": [],
   "source": [
    "def calc_mse(y, y_pred):\n",
    "    err = np.mean((y - y_pred)**2)\n",
    "    return err"
   ]
  },
  {
   "cell_type": "code",
   "execution_count": 3,
   "id": "56db1a3d",
   "metadata": {},
   "outputs": [],
   "source": [
    "y = [45, 55, 50, 59, 65, 35, 75, 80, 50, 60]\n",
    "\n",
    "X = np.array([[1, 1, 1, 1, 1, 1, 1, 1, 1, 1],\n",
    "              [1, 1, 2, 1, 3, 0, 5, 10, 1, 2]])"
   ]
  },
  {
   "cell_type": "code",
   "execution_count": 4,
   "id": "65e4a2ab",
   "metadata": {},
   "outputs": [
    {
     "data": {
      "text/plain": [
       "<matplotlib.collections.PathCollection at 0x7fbbb20>"
      ]
     },
     "execution_count": 4,
     "metadata": {},
     "output_type": "execute_result"
    },
    {
     "data": {
      "image/png": "[encoded data removed]",
      "text/plain": [
       "<Figure size 432x288 with 1 Axes>"
      ]
     },
     "metadata": {
      "needs_background": "light"
     },
     "output_type": "display_data"
    }
   ],
   "source": [
    "plt.scatter(X[1,:], y)"
   ]
  },
  {
   "cell_type": "code",
   "execution_count": 5,
   "id": "eef4fc9e",
   "metadata": {},
   "outputs": [],
   "source": [
    "def gradient_descent(alpha, iteration):\n",
    "    \n",
    "    n = X.shape[1]\n",
    "    W = np.array([1, 0.5])\n",
    "    \n",
    "    errors = []\n",
    "    \n",
    "    for i in range(iteration):\n",
    "        y_pred = np.dot(W, X)\n",
    "        err = calc_mse(y, y_pred)\n",
    "        W -= (alpha * (1/n * 2 * np.dot(X ,(y_pred - y))))\n",
    "        if i % 100 == 0:\n",
    "            print(i, W, err)\n",
    "                \n",
    "            "
   ]
  },
  {
   "cell_type": "code",
   "execution_count": 6,
   "id": "3cfc9dc4",
   "metadata": {},
   "outputs": [
    {
     "name": "stdout",
     "output_type": "stream",
     "text": [
      "0 [1.01102 0.534  ] 3173.15\n",
      "100 [2.02168794 3.452835  ] 2207.6942101483005\n",
      "200 [2.88306663 5.58962851] 1670.7027004086372\n",
      "300 [3.63289519 7.14848061] 1368.0832412796258\n",
      "400 [4.29908617 8.28027926] 1193.7493344933293\n",
      "500 [4.90228732 9.09657298] 1089.714750358689\n",
      "600 [5.45777535 9.67982684] 1024.2828984889413\n",
      "700 [ 5.97685612 10.0910047 ] 980.1260644155933\n",
      "800 [ 6.46789973 10.37517467] 947.770026039189\n",
      "900 [ 6.93710574 10.56565326] 922.0330206910178\n"
     ]
    }
   ],
   "source": [
    "alpha=1e-4 \n",
    "iteration=1000\n",
    "\n",
    "gradient_descent(alpha=alpha, iteration=iteration)"
   ]
  },
  {
   "cell_type": "code",
   "execution_count": 7,
   "id": "5868fc8a",
   "metadata": {},
   "outputs": [
    {
     "name": "stdout",
     "output_type": "stream",
     "text": [
      "0 [1.1102 0.84  ] 3173.15\n",
      "100 [ 7.43515582 10.71754582] 899.5990444359252\n",
      "200 [11.44993589 10.49282195] 735.5540619653672\n",
      "300 [14.98921624  9.8634316 ] 606.0048772266812\n",
      "400 [18.17511588  9.27626113] 500.7989288428639\n",
      "500 [21.04606457  8.74617136] 415.355423398327\n",
      "600 [23.63334499  8.26841272] 345.9620646005472\n",
      "700 [25.96499229  7.83785632] 289.6039104863001\n",
      "800 [28.06626432  7.44984037] 243.83236130353217\n",
      "900 [29.95992301  7.10016181] 206.65877484533297\n"
     ]
    }
   ],
   "source": [
    "alpha=1e-3 \n",
    "iteration=1000\n",
    "\n",
    "gradient_descent(alpha=alpha, iteration=iteration)"
   ]
  },
  {
   "cell_type": "code",
   "execution_count": 8,
   "id": "b1944b01",
   "metadata": {},
   "outputs": [
    {
     "name": "stdout",
     "output_type": "stream",
     "text": [
      "0 [2.102 3.9  ] 3173.15\n",
      "100 [31.88770806  6.74418155] 175.19445858001842\n",
      "200 [41.83683774  4.90699865] 61.9177717428135\n",
      "300 [45.33508261  4.26102097] 47.913169919666785\n",
      "400 [46.56511152  4.03388672] 46.181755648107604\n",
      "500 [46.99760587  3.95402334] 45.96769776787538\n",
      "600 [47.14967657  3.92594232] 45.941233404700036\n",
      "700 [47.20314662  3.91606866] 45.93796156758051\n",
      "800 [47.2219474   3.91259695] 45.93755706443538\n",
      "900 [47.228558    3.91137626] 45.937507054979434\n"
     ]
    }
   ],
   "source": [
    "alpha=1e-2 #0.01\n",
    "iteration=1000\n",
    "\n",
    "gradient_descent(alpha=alpha, iteration=iteration)\n",
    "#Лучший результат"
   ]
  },
  {
   "cell_type": "markdown",
   "id": "7eecbf91",
   "metadata": {},
   "source": [
    "2 (опция). В этом коде мы избавляемся от итераций по весам, но тут есть ошибка, исправьте ее:"
   ]
  },
  {
   "cell_type": "code",
   "execution_count": 9,
   "id": "c29290ee",
   "metadata": {},
   "outputs": [],
   "source": [
    "W = np.array([1, 0.5])\n",
    "n = X.shape[1]"
   ]
  },
  {
   "cell_type": "code",
   "execution_count": 10,
   "id": "ab12f764",
   "metadata": {},
   "outputs": [
    {
     "name": "stdout",
     "output_type": "stream",
     "text": [
      "0 [5.502 5.002] 3173.15\n",
      "100 [11.82211538 11.32211538] 737.0918269230771\n",
      "200 [11.82211538 11.32211538] 737.0918269230771\n",
      "300 [11.82211538 11.32211538] 737.0918269230771\n",
      "400 [11.82211538 11.32211538] 737.0918269230771\n",
      "500 [11.82211538 11.32211538] 737.0918269230771\n",
      "600 [11.82211538 11.32211538] 737.0918269230771\n",
      "700 [11.82211538 11.32211538] 737.0918269230771\n",
      "800 [11.82211538 11.32211538] 737.0918269230771\n",
      "900 [11.82211538 11.32211538] 737.0918269230771\n"
     ]
    }
   ],
   "source": [
    "for i in range(1000):\n",
    "    y_pred = np.dot(W, X)\n",
    "    err = calc_mse(y, y_pred)\n",
    "    '''for ii in range(W.shape[0]):\n",
    "    W[ii] -= alpha * (1/n * 2 * np.sum(X[ii] * (y_pred - y)))'''\n",
    "    W -= (alpha * (1/n * 2 * np.sum(X * (y_pred - y)))) #в этой строчке ошибка - надо суммировать только строки и не суммировать столбцы, а потом сложить их с W\n",
    "    if i % 100 == 0:\n",
    "        print(i, W, err)"
   ]
  },
  {
   "cell_type": "code",
   "execution_count": 11,
   "id": "74b895ad",
   "metadata": {},
   "outputs": [
    {
     "name": "stdout",
     "output_type": "stream",
     "text": [
      "0 [12.14492308 10.99930769] 737.0918269230771\n",
      "100 [34.85674799  6.19592562] 130.01315707213521\n",
      "200 [42.88079124  4.71422465] 56.33192565977271\n",
      "300 [45.70215039  4.1932391 ] 47.22258165810515\n",
      "400 [46.69417738  4.01005373] 46.09637697137415\n",
      "500 [47.04298712  3.94564334] 45.95714224753643\n",
      "600 [47.16563321  3.9229958 ] 45.939928406615174\n",
      "700 [47.20875719  3.91503263] 45.937800228305235\n",
      "800 [47.22392015  3.91223267] 45.937537117768805\n",
      "900 [47.22925164  3.91124817] 45.93750458893693\n"
     ]
    }
   ],
   "source": [
    "#Решение\n",
    "for i in range(1000):\n",
    "    y_pred = np.dot(W, X)\n",
    "    err = calc_mse(y, y_pred)\n",
    "\n",
    "    W -= (alpha * (1/n * 2 * np.dot(X, (y_pred - y)))) \n",
    "    ''' или еще так можно записать - 2 варианта\n",
    "    W -= (alpha * (1 / n * 2 * (X @ (y_pred - y))))\n",
    "    W -= (alpha * (1/n * 2 * np.sum(X * (y_pred - y), axis=1))) # здесь обозначаем ось, которую будем суммировать''' \n",
    "    if i % 100 == 0:\n",
    "        print(i, W, err)"
   ]
  }
 ],
 "metadata": {
  "kernelspec": {
   "display_name": "Python 3",
   "language": "python",
   "name": "python3"
  },
  "language_info": {
   "codemirror_mode": {
    "name": "ipython",
    "version": 3
   },
   "file_extension": ".py",
   "mimetype": "text/x-python",
   "name": "python",
   "nbconvert_exporter": "python",
   "pygments_lexer": "ipython3",
   "version": "3.8.8"
  }
 },
 "nbformat": 4,
 "nbformat_minor": 5
}
