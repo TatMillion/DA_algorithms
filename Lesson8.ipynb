{
 "cells": [
  {
   "cell_type": "markdown",
   "metadata": {},
   "source": [
    "# Урок 8. Снижение размерности данных"
   ]
  },
  {
   "cell_type": "code",
   "execution_count": 1,
   "metadata": {},
   "outputs": [],
   "source": [
    "import numpy as np\n",
    "from sklearn import datasets\n",
    "from sklearn.model_selection import train_test_split\n",
    "from sklearn.ensemble import RandomForestClassifier as RFC\n",
    "from sklearn.decomposition import PCA\n",
    "from sklearn.metrics import f1_score"
   ]
  },
  {
   "cell_type": "code",
   "execution_count": 4,
   "metadata": {},
   "outputs": [],
   "source": [
    "iris = datasets.load_iris()\n",
    "X = iris.data\n",
    "y = iris.target"
   ]
  },
  {
   "cell_type": "markdown",
   "metadata": {},
   "source": [
    "(*) Написать свою реализацию метода главных компонент с помощью сингулярного разложения с использованием функции numpy.linalg.svd()"
   ]
  },
  {
   "cell_type": "code",
   "execution_count": 5,
   "metadata": {},
   "outputs": [
    {
     "name": "stdout",
     "output_type": "stream",
     "text": [
      "[[-2.16199391 -0.20824916]\n",
      " [-1.85386523  0.91972173]\n",
      " [-2.19479706  0.57380492]\n",
      " [-2.08925659  0.79120079]\n",
      " [-2.31201067 -0.38815258]\n",
      " [-2.12862356 -1.2305024 ]\n",
      " [-2.35640215  0.15121396]\n",
      " [-2.09735174  0.02303674]\n",
      " [-2.08266715  1.29544269]\n",
      " [-1.93424093  0.70954986]]\n",
      "...\n"
     ]
    }
   ],
   "source": [
    "def pca_with_svd(X, n_components=None):\n",
    "    X_ = X.astype(float)\n",
    "    X_std = (X_ - np.mean(X_, axis=0))/np.std(X_, axis=0)\n",
    "    U, D, Vt = np.linalg.svd(X_std)\n",
    "    W = Vt[:, 0:n_components]\n",
    "    return X_std.dot(W)\n",
    "\n",
    "print(pca_with_svd(X, n_components=2)[0:10, :])\n",
    "print('...')"
   ]
  },
  {
   "cell_type": "markdown",
   "metadata": {},
   "source": [
    "(*) Обучить любую модель классификации на датасете IRIS до применения PCA и после него. Сравнить качество классификации по отложенной выборке."
   ]
  },
  {
   "cell_type": "code",
   "execution_count": 6,
   "metadata": {},
   "outputs": [],
   "source": [
    "X_train, X_test, y_train, y_test = train_test_split(X, y, test_size=0.25)"
   ]
  },
  {
   "cell_type": "code",
   "execution_count": 7,
   "metadata": {},
   "outputs": [],
   "source": [
    "X_pca = PCA(n_components=2, random_state=42).fit_transform(X)"
   ]
  },
  {
   "cell_type": "code",
   "execution_count": 8,
   "metadata": {},
   "outputs": [],
   "source": [
    "\n",
    "X_train_pca, X_test_pca, y_train_pca, y_test_pca = train_test_split(X_pca, y, test_size=0.25)"
   ]
  },
  {
   "cell_type": "code",
   "execution_count": 9,
   "metadata": {},
   "outputs": [],
   "source": [
    "clf = RFC(n_jobs=-1).fit(X_train, y_train)\n",
    "clf_pca = RFC(n_jobs=-1).fit(X_train_pca, y_train_pca)"
   ]
  },
  {
   "cell_type": "code",
   "execution_count": 10,
   "metadata": {},
   "outputs": [
    {
     "name": "stdout",
     "output_type": "stream",
     "text": [
      "До применения PCA F1-score: 0.9473684210526315\n",
      "После применения PCA F1-score: 0.9210526315789473\n"
     ]
    }
   ],
   "source": [
    "print(f\"До применения PCA F1-score: {f1_score(y_test, clf.predict(X_test), average='micro')}\")\n",
    "print(f\"После применения PCA F1-score: {f1_score(y_test_pca, clf_pca.predict(X_test_pca), average='micro')}\")"
   ]
  },
  {
   "cell_type": "markdown",
   "metadata": {},
   "source": [
    "после применения PCA уменьшилось переобучение, соответственно качество классификации выросло."
   ]
  }
 ],
 "metadata": {
  "kernelspec": {
   "display_name": "Python 3",
   "language": "python",
   "name": "python3"
  },
  "language_info": {
   "codemirror_mode": {
    "name": "ipython",
    "version": 3
   },
   "file_extension": ".py",
   "mimetype": "text/x-python",
   "name": "python",
   "nbconvert_exporter": "python",
   "pygments_lexer": "ipython3",
   "version": "3.8.5"
  }
 },
 "nbformat": 4,
 "nbformat_minor": 4
}
