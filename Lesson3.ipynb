{
 "cells": [
  {
   "cell_type": "markdown",
   "id": "fe9bd70f",
   "metadata": {},
   "source": [
    "# Урок 3. Логистическая регрессия. Log Loss"
   ]
  },
  {
   "cell_type": "code",
   "execution_count": 1,
   "id": "429d8812",
   "metadata": {},
   "outputs": [],
   "source": [
    "import numpy as np\n",
    "import matplotlib.pyplot as plt\n",
    "import warnings\n",
    "from sklearn.linear_model import LinearRegression\n"
   ]
  },
  {
   "cell_type": "markdown",
   "id": "0c8be40b",
   "metadata": {},
   "source": [
    "1*. Измените функцию calc_logloss так, чтобы нули по возможности не попадали в np.log.  "
   ]
  },
  {
   "cell_type": "code",
   "execution_count": 2,
   "id": "e1728973",
   "metadata": {},
   "outputs": [],
   "source": [
    "# функция в изначальном виде\n",
    "\n",
    "#def calc_logloss(y, y_pred):\n",
    " #   err = - np.mean(y * np.log(y_pred) + (1.0 - y) * np.log(1.0 - y_pred))\n",
    "  #  err = np.sum(err)\n",
    "   # return err\n"
   ]
  },
  {
   "cell_type": "code",
   "execution_count": 3,
   "id": "86713386",
   "metadata": {},
   "outputs": [
    {
     "data": {
      "text/plain": [
       "(36.78908102879092, 1.1102230246251565e-16)"
      ]
     },
     "execution_count": 3,
     "metadata": {},
     "output_type": "execute_result"
    }
   ],
   "source": [
    "# функция в измененном виде, чтобы нули по возможности не попадали в np.log.\n",
    "\n",
    "def calc_logloss(y, y_pred):\n",
    "    \n",
    "    y_pred = y_pred.astype(float)\n",
    "    \n",
    "    for i in range(y_pred.shape[0]):\n",
    "        if y_pred[i] <= 0:\n",
    "            y_pred[i] = 0.0000000000000001\n",
    "        elif y_pred[i] >= 1:\n",
    "            y_pred[i] = 0.9999999999999999\n",
    "                \n",
    "    return - np.mean(y * np.log(y_pred) + (1.0 - y) * np.log(1.0 - y_pred))\n",
    "\n",
    "#проверка\n",
    "y = np.array([1, 0])\n",
    "\n",
    "y_pred1 = np.array([0, 1])\n",
    "y_pred2 = np.array([1, 0])\n",
    "\n",
    "calc_logloss(y, y_pred1), calc_logloss(y, y_pred2)"
   ]
  },
  {
   "cell_type": "markdown",
   "id": "7e27e440",
   "metadata": {},
   "source": [
    "2. Подберите аргументы функции eval_model для логистической регрессии таким образом, чтобы log loss был минимальным."
   ]
  },
  {
   "cell_type": "code",
   "execution_count": 4,
   "id": "5e1ed32d",
   "metadata": {},
   "outputs": [],
   "source": [
    "X = np.array([[1, 1, 1, 1, 1, 1, 1, 1, 1, 1],\n",
    "              [1, 1, 2, 1, 3, 0, 5, 10, 1, 2],\n",
    "              [500, 700, 750, 600, 1450,\n",
    "               800, 1500, 2000, 450, 1000],\n",
    "              [1, 1, 2, 1, 2, \n",
    "               1, 3, 3, 1, 2]], dtype = np.float64)\n",
    "\n",
    "y = np.array([0, 0, 1, 0, 1, 0, 1, 0, 1, 1], dtype = np.float64)"
   ]
  },
  {
   "cell_type": "code",
   "execution_count": 5,
   "id": "6586f932",
   "metadata": {},
   "outputs": [],
   "source": [
    "def calc_std_feat(x):\n",
    "    x[1:] = ((x[1:].T - x[1:].mean(axis=1)) / x[1:].std(axis=1)).T\n",
    "    return x"
   ]
  },
  {
   "cell_type": "code",
   "execution_count": 6,
   "id": "282a4569",
   "metadata": {},
   "outputs": [
    {
     "data": {
      "text/plain": [
       "array([[ 1.        ,  1.        ,  1.        ,  1.        ,  1.        ,\n",
       "         1.        ,  1.        ,  1.        ,  1.        ,  1.        ],\n",
       "       [-0.57142857, -0.57142857, -0.21428571, -0.57142857,  0.14285714,\n",
       "        -0.92857143,  0.85714286,  2.64285714, -0.57142857, -0.21428571],\n",
       "       [-0.97958969, -0.56713087, -0.46401617, -0.77336028,  0.97958969,\n",
       "        -0.36090146,  1.08270439,  2.11385144, -1.08270439,  0.05155735],\n",
       "       [-0.89625816, -0.89625816,  0.38411064, -0.89625816,  0.38411064,\n",
       "        -0.89625816,  1.66447944,  1.66447944, -0.89625816,  0.38411064]])"
      ]
     },
     "execution_count": 6,
     "metadata": {},
     "output_type": "execute_result"
    }
   ],
   "source": [
    "standart_X = calc_std_feat(X)\n",
    "standart_X"
   ]
  },
  {
   "cell_type": "code",
   "execution_count": 7,
   "id": "bda5b1ad",
   "metadata": {},
   "outputs": [],
   "source": [
    "def sigmoid(z):\n",
    "    res = 1 / (1 + np.exp(-z))\n",
    "    return res"
   ]
  },
  {
   "cell_type": "code",
   "execution_count": 8,
   "id": "111e3a6e",
   "metadata": {},
   "outputs": [],
   "source": [
    "\n",
    "def eval_model(X, y, iterations, alpha=1e-4):\n",
    "    \n",
    "    np.random.seed(42)\n",
    "    W = np.random.randn(X.shape[0])\n",
    "    n = X.shape[1]\n",
    "    errors = []\n",
    "    ww = []\n",
    "    \n",
    "    for i in range(1, iterations+1):\n",
    "        z = np.dot(W, X)\n",
    "        y_pred = sigmoid(z)\n",
    "        err = calc_logloss(y, y_pred)\n",
    "        W -= alpha * (1/n * np.dot((y_pred - y), X.T))\n",
    "        \n",
    "        errors.append(err)\n",
    "        \n",
    "        if i % (iterations / 10) == 0:\n",
    "            print(i, W, err)\n",
    "    \n",
    "    errors = np.array(errors)\n",
    "    \n",
    "    return errors, W"
   ]
  },
  {
   "cell_type": "code",
   "execution_count": 9,
   "id": "6056fb15",
   "metadata": {
    "scrolled": true
   },
   "outputs": [
    {
     "name": "stdout",
     "output_type": "stream",
     "text": [
      "800 [ 0.12476576 -1.07397425 -0.08162698  1.58560707] 0.4741488482536737\n",
      "1600 [ 0.0604216  -1.38024056 -0.23325458  2.05293334] 0.4312793837310199\n",
      "2400 [ 0.07238336 -1.61978426 -0.35850137  2.44522282] 0.4027979097629192\n",
      "3200 [ 0.10007337 -1.81695757 -0.47019538  2.78034202] 0.3821992194612644\n",
      "4000 [ 0.13189913 -1.98313357 -0.57227105  3.07313282] 0.36657662746472863\n",
      "4800 [ 0.16501519 -2.1258425  -0.66710883  3.33365632] 0.3542697506136334\n",
      "5600 [ 0.19846906 -2.25033852 -0.75626956  3.56897558] 0.3442668510882259\n",
      "6400 [ 0.23184246 -2.36041983 -0.84082794  3.78419545] 0.3359225633916475\n",
      "7200 [ 0.26492004 -2.45890906 -0.92155185  3.98309702] 0.32880898006635384\n",
      "8000 [ 0.29758435 -2.54795134 -0.99900705  4.16854141] 0.3226327340772764\n"
     ]
    },
    {
     "data": {
      "text/plain": [
       "array([0.32263996, 0.32263273])"
      ]
     },
     "execution_count": 9,
     "metadata": {},
     "output_type": "execute_result"
    }
   ],
   "source": [
    "model = eval_model(\n",
    "    X=standart_X,\n",
    "    y=y,\n",
    "    iterations=8000,\n",
    "    alpha=1e-2\n",
    ")\n",
    "\n",
    "model[0][-2:]"
   ]
  },
  {
   "cell_type": "code",
   "execution_count": 10,
   "id": "374f3ac3",
   "metadata": {},
   "outputs": [
    {
     "data": {
      "image/png": "[encoded data removed]",
      "text/plain": [
       "<Figure size 432x288 with 1 Axes>"
      ]
     },
     "metadata": {
      "needs_background": "light"
     },
     "output_type": "display_data"
    }
   ],
   "source": [
    "plt.plot(range(model[0].shape[0]),model[0])\n",
    "\n",
    "plt.grid()\n",
    "plt.show()"
   ]
  },
  {
   "cell_type": "markdown",
   "id": "f481a13f",
   "metadata": {},
   "source": [
    "3. Создайте функцию calc_pred_proba, возвращающую предсказанную вероятность класса 1 (на вход подаются W, который уже посчитан функцией eval_model и X, на выходе - массив y_pred_proba)."
   ]
  },
  {
   "cell_type": "code",
   "execution_count": 11,
   "id": "3c623bf2",
   "metadata": {},
   "outputs": [],
   "source": [
    "def calc_pred_proba(W, X):\n",
    "    z = np.dot(W, X)\n",
    "    return sigmoid(z)\n"
   ]
  },
  {
   "cell_type": "code",
   "execution_count": 12,
   "id": "496e4580",
   "metadata": {},
   "outputs": [
    {
     "data": {
      "text/plain": [
       "array([0.26817224, 0.19529493, 0.94825573, 0.22971161, 0.63556251,\n",
       "       0.32915552, 0.98148432, 0.16664581, 0.28886489, 0.91631105])"
      ]
     },
     "execution_count": 12,
     "metadata": {},
     "output_type": "execute_result"
    }
   ],
   "source": [
    "calc_pred_proba(model[1], standart_X)"
   ]
  },
  {
   "cell_type": "markdown",
   "id": "7bb3f62a",
   "metadata": {},
   "source": [
    "4. Создайте функцию calc_pred, возвращающую предсказанный класс (на вход подаются W, который уже посчитан функцией eval_model и X, на выходе - массив y_pred)."
   ]
  },
  {
   "cell_type": "code",
   "execution_count": 13,
   "id": "9f0f7293",
   "metadata": {},
   "outputs": [],
   "source": [
    "def calc_pred(W, X):\n",
    "    \n",
    "    y_pred = calc_pred_proba(W, X)\n",
    "\n",
    "    for i in range(y_pred.shape[0]):\n",
    "        if y_pred[i] > 0.5:\n",
    "            y_pred[i] = 1\n",
    "        else:\n",
    "            y_pred[i] = 0\n",
    "    \n",
    "    return y_pred"
   ]
  },
  {
   "cell_type": "code",
   "execution_count": 14,
   "id": "90f52263",
   "metadata": {},
   "outputs": [
    {
     "data": {
      "text/plain": [
       "array([0., 0., 1., 0., 1., 0., 1., 0., 0., 1.])"
      ]
     },
     "execution_count": 14,
     "metadata": {},
     "output_type": "execute_result"
    }
   ],
   "source": [
    "cp = calc_pred(model[1], standart_X) \n",
    "cp"
   ]
  },
  {
   "cell_type": "markdown",
   "id": "a20059ee",
   "metadata": {},
   "source": [
    "5. Посчитайте Accuracy, матрицу ошибок, точность и полноту, а также F1 score."
   ]
  },
  {
   "cell_type": "code",
   "execution_count": 15,
   "id": "bfe0515e",
   "metadata": {},
   "outputs": [],
   "source": [
    "#Accuracy\n",
    "def accuracy(y, y_pred):\n",
    "    \n",
    "    acc = (y_pred == y).sum()/cp.shape[0]\n",
    "    \n",
    "    return acc\n"
   ]
  },
  {
   "cell_type": "code",
   "execution_count": 16,
   "id": "5fe23521",
   "metadata": {},
   "outputs": [
    {
     "data": {
      "text/plain": [
       "0.9"
      ]
     },
     "execution_count": 16,
     "metadata": {},
     "output_type": "execute_result"
    }
   ],
   "source": [
    "accuracy(y=y, y_pred=cp)"
   ]
  },
  {
   "cell_type": "code",
   "execution_count": 17,
   "id": "1365329f",
   "metadata": {},
   "outputs": [],
   "source": [
    "#матрица ошибок\n",
    "def error_matrix(y, y_pred):\n",
    "    \n",
    "    TP = y * y_pred\n",
    "    FP = y_pred - TP\n",
    "    FN = y - TP\n",
    "    TN = y**0 - TP - FP - FN\n",
    "    \n",
    "    return np.array([[TP.sum(), FP.sum()], \n",
    "                     [FN.sum(), TN.sum()]])"
   ]
  },
  {
   "cell_type": "code",
   "execution_count": 18,
   "id": "205c5893",
   "metadata": {},
   "outputs": [
    {
     "data": {
      "text/plain": [
       "array([[4., 0.],\n",
       "       [1., 5.]])"
      ]
     },
     "execution_count": 18,
     "metadata": {},
     "output_type": "execute_result"
    }
   ],
   "source": [
    "error_matrix(y=y, y_pred=cp)\n"
   ]
  },
  {
   "cell_type": "code",
   "execution_count": 19,
   "id": "f81a03ca",
   "metadata": {},
   "outputs": [],
   "source": [
    "#точность\n",
    "def precision(em):\n",
    "    return em[0,0]/(em[0,0]+em[0,1])"
   ]
  },
  {
   "cell_type": "code",
   "execution_count": 20,
   "id": "05e69376",
   "metadata": {},
   "outputs": [
    {
     "data": {
      "text/plain": [
       "1.0"
      ]
     },
     "execution_count": 20,
     "metadata": {},
     "output_type": "execute_result"
    }
   ],
   "source": [
    "precision(error_matrix(y=y, y_pred=cp))"
   ]
  },
  {
   "cell_type": "code",
   "execution_count": 21,
   "id": "997c6f6c",
   "metadata": {},
   "outputs": [],
   "source": [
    "#полнота\n",
    "def recall(em):\n",
    "    return em[0,0]/(em[0,0]+em[1,0])"
   ]
  },
  {
   "cell_type": "code",
   "execution_count": 22,
   "id": "979074bf",
   "metadata": {},
   "outputs": [
    {
     "data": {
      "text/plain": [
       "0.8"
      ]
     },
     "execution_count": 22,
     "metadata": {},
     "output_type": "execute_result"
    }
   ],
   "source": [
    "recall(error_matrix(y=y, y_pred=cp))"
   ]
  },
  {
   "cell_type": "code",
   "execution_count": 23,
   "id": "b453024a",
   "metadata": {},
   "outputs": [],
   "source": [
    "# F1 score\n",
    "def F1_score(em):\n",
    "    pre = precision(em)\n",
    "    rec = recall(em)\n",
    "    return (2*pre*rec)/(pre+rec)"
   ]
  },
  {
   "cell_type": "code",
   "execution_count": 24,
   "id": "8230b081",
   "metadata": {},
   "outputs": [
    {
     "data": {
      "text/plain": [
       "0.888888888888889"
      ]
     },
     "execution_count": 24,
     "metadata": {},
     "output_type": "execute_result"
    }
   ],
   "source": [
    "\n",
    "F1_score(error_matrix(y=y, y_pred=cp))"
   ]
  },
  {
   "cell_type": "markdown",
   "id": "9e7b8fd8",
   "metadata": {},
   "source": [
    "6. Могла ли модель переобучиться? Почему?\n",
    "\n",
    "Могла\n",
    "\n",
    "не были использовани $L_1$ или $L_2$ регуляции\n",
    "\n",
    "не было использовано минимальное значение\n",
    "\n",
    "в исходной матрице малое количество объектов"
   ]
  },
  {
   "cell_type": "markdown",
   "id": "7815a1ce",
   "metadata": {},
   "source": [
    "7*. Создайте функции eval_model_l1 и eval_model_l2 с применением L1 и L2 регуляризаций соответственно."
   ]
  },
  {
   "cell_type": "code",
   "execution_count": null,
   "id": "06fde0c0",
   "metadata": {},
   "outputs": [],
   "source": []
  }
 ],
 "metadata": {
  "kernelspec": {
   "display_name": "Python 3",
   "language": "python",
   "name": "python3"
  },
  "language_info": {
   "codemirror_mode": {
    "name": "ipython",
    "version": 3
   },
   "file_extension": ".py",
   "mimetype": "text/x-python",
   "name": "python",
   "nbconvert_exporter": "python",
   "pygments_lexer": "ipython3",
   "version": "3.8.8"
  }
 },
 "nbformat": 4,
 "nbformat_minor": 5
}
