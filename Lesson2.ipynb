{
 "cells": [
  {
   "cell_type": "markdown",
   "id": "7cd4c187",
   "metadata": {},
   "source": [
    "# Урок 2. Масштабирование признаков. L1- и L2-регуляризация. Стохастический градиентный спуск"
   ]
  },
  {
   "cell_type": "markdown",
   "id": "dffebcd0",
   "metadata": {},
   "source": [
    "1. Сгенерировать датасет при помощи sklearn.datasets.make_regression и обучить линейную модель при помощи градиентного и стохастического градиентного спуска. Нанести среднеквадратичную ошибку для обоих методов на один график, сделать выводы о разнице скорости сходимости каждого из методов."
   ]
  },
  {
   "cell_type": "code",
   "execution_count": 1,
   "id": "b615d85a",
   "metadata": {},
   "outputs": [],
   "source": [
    "import numpy as np\n",
    "from sklearn import datasets\n",
    "import matplotlib.pyplot as plt\n",
    "\n",
    "%matplotlib inline"
   ]
  },
  {
   "cell_type": "code",
   "execution_count": 2,
   "id": "683611ed",
   "metadata": {},
   "outputs": [],
   "source": [
    "# сгенерируем набор данных\n",
    "data, target, coef = datasets.make_regression(n_samples=1000, n_features=2, n_informative=2, n_targets=1, \n",
    "                                      noise=5, coef=True, random_state=2)"
   ]
  },
  {
   "cell_type": "code",
   "execution_count": 3,
   "id": "bee3c822",
   "metadata": {},
   "outputs": [],
   "source": [
    "# реализуем функцию, определяющую среднеквадратичную ошибку\n",
    "def mserror(X, w, y_pred):\n",
    "    y = X.dot(w)\n",
    "    return (sum((y - y_pred)**2)) / len(y)"
   ]
  },
  {
   "cell_type": "code",
   "execution_count": 4,
   "id": "0cc0290c",
   "metadata": {},
   "outputs": [],
   "source": [
    "def gd(X, y, mn = 20 # константа, ограничивает шаг сходимости (1/min(iter_num+1, mn)),\n",
    "                             # чтобы он не стемился к нулю\n",
    "                    ):\n",
    "    \n",
    "    #  шаг сходимости\n",
    "    alpha = 0\n",
    "    \n",
    "    # инициализируем начальный вектор весов\n",
    "    w = np.zeros(2)\n",
    "    \n",
    "    # список значений ошибок после каждой итерации\n",
    "    errors_gd = [0,]\n",
    "\n",
    "    # максимальное число итераций\n",
    "    max_iter = 10000\n",
    "\n",
    "    # зададим начальную разницу весов большим числом\n",
    "    weight_dist = np.inf\n",
    "    \n",
    "    stop = 0\n",
    "    \n",
    "    \n",
    "    # ход градиентного спуска\n",
    "    for i in range (max_iter):\n",
    "        alpha = 1/min(i+1, mn)\n",
    "        #нормализуем данные через sign\n",
    "        new_w = w - 2 * alpha * np.sign(np.dot(X.T, (np.dot(X, w) - y)) / y.shape[0])\n",
    "        errors_gd.append(mserror(X, new_w, y))\n",
    "        # вычислим разницу между последними значениями для реализации остановки\n",
    "        stop = abs(errors_gd[-1] - errors_gd[-2]) \n",
    "        w = new_w\n",
    "        if stop < 0.001:\n",
    "            break\n",
    "\n",
    "    return errors_gd   "
   ]
  },
  {
   "cell_type": "code",
   "execution_count": 5,
   "id": "69e2ccd7",
   "metadata": {},
   "outputs": [],
   "source": [
    "def st(X,y,mn = 20 # константа, ограничивает шаг сходимости (1/min(iter_num+1, mn)),\n",
    "                      # чтобы он не стемился к нулю\n",
    "              ):\n",
    "    \n",
    "    #  шаг сходимости\n",
    "    alpha = 0\n",
    "    \n",
    "    # инициализируем начальный вектор весов\n",
    "    w = np.zeros(2)\n",
    "    \n",
    "    # список значений ошибок после каждой итерации\n",
    "    errors_St = [0,]\n",
    "\n",
    "    # максимальное число итераций\n",
    "    max_iter = 10000\n",
    "\n",
    "    # зададим начальную разницу весов большим числом\n",
    "    weight_dist = np.inf\n",
    "    \n",
    "    stop = 0\n",
    "    \n",
    "    \n",
    "    # ход градиентного спуска\n",
    "    for i in range (max_iter):\n",
    "        alpha = 1/min(i+1, mn)\n",
    "        \n",
    "        # генерируем случайный индекс объекта выборки\n",
    "        train_ind = np.random.randint(X.shape[0])\n",
    "        \n",
    "        #нормализуем данные через sign\n",
    "        new_w = w - 2 * alpha * np.sign(np.dot(X[train_ind].T, (np.dot(X[train_ind], w) - y[train_ind])) /\n",
    "                                         y.shape[0])\n",
    "\n",
    "        errors_St.append(mserror(X, new_w, y))\n",
    "        \n",
    "        # вычислим разницу между последними значениями для реализации остановки\n",
    "        stop = abs(errors_St[-1] - errors_St[-2]) \n",
    "        w = new_w\n",
    "        if stop < 0.001:\n",
    "            break\n",
    "\n",
    "    return errors_St   "
   ]
  },
  {
   "cell_type": "code",
   "execution_count": 6,
   "id": "c54e2152",
   "metadata": {},
   "outputs": [],
   "source": [
    "errors_St = st(data, target)\n",
    "errors_gd = gd(data, target)"
   ]
  },
  {
   "cell_type": "code",
   "execution_count": 7,
   "id": "90162301",
   "metadata": {},
   "outputs": [
    {
     "data": {
      "text/plain": [
       "Text(0, 0.5, 'MSE')"
      ]
     },
     "execution_count": 7,
     "metadata": {},
     "output_type": "execute_result"
    },
    {
     "data": {
      "image/png": "[encoded data removed]",
      "text/plain": [
       "<Figure size 1008x432 with 1 Axes>"
      ]
     },
     "metadata": {
      "needs_background": "light"
     },
     "output_type": "display_data"
    }
   ],
   "source": [
    "fig = plt.figure(figsize=(14, 6))\n",
    "plt.title('Linear regression', size=14)\n",
    "plt.plot(errors_St, label='Stochastic Gradient Descent')\n",
    "plt.plot(errors_gd, label='Gradient Descent')\n",
    "plt.legend(loc='best', fontsize=14)\n",
    "plt.xlabel('n_iterations', size=14)\n",
    "plt.ylabel('MSE', size=14)\n"
   ]
  },
  {
   "cell_type": "markdown",
   "id": "2ab3acb6",
   "metadata": {},
   "source": [
    "Здесь получилось, что градиентному спуску  потребовалось меньше времени на вычисление коэффициентов, чем стохастическому градиентному спуску. При данных условиях, градиентный спуск работает лучше."
   ]
  },
  {
   "cell_type": "markdown",
   "id": "bcfd0595",
   "metadata": {},
   "source": [
    "2. Модифицировать решение первого задания путем добавления 𝐿2 -регуляризации (в функцию, считающую MSE, нужно добавить норму вектора весов) и сравнить результаты."
   ]
  },
  {
   "cell_type": "code",
   "execution_count": 8,
   "id": "7e9375a7",
   "metadata": {},
   "outputs": [],
   "source": [
    "def mserrorL2(X, w, y_pred, alpha = 0.01):\n",
    "    y = X.dot(w)\n",
    "    return ((sum((y - y_pred)**2)) / len(y)) + (alpha * np.sum(np.square(w)))"
   ]
  },
  {
   "cell_type": "code",
   "execution_count": 9,
   "id": "ae09c792",
   "metadata": {},
   "outputs": [],
   "source": [
    "def gd_L2(X,\n",
    "                     y, \n",
    "                     mn = 20 # константа, ограничивает шаг сходимости (1/min(iter_num+1, mn)),\n",
    "                             # чтобы он не стемился к нулю\n",
    "                    ):\n",
    "    \n",
    "    #  шаг сходимости\n",
    "    alpha = 0\n",
    "    \n",
    "    # инициализируем начальный вектор весов\n",
    "    w = np.zeros(2)\n",
    "    \n",
    "    # список значений ошибок после каждой итерации\n",
    "    errors_GD_L2 = [0,]\n",
    "\n",
    "    # максимальное число итераций\n",
    "    max_iter = 10000\n",
    "\n",
    "    # зададим начальную разницу весов большим числом\n",
    "    weight_dist = np.inf\n",
    "    \n",
    "    stop = 0\n",
    "    \n",
    "    \n",
    "    # ход градиентного спуска\n",
    "    for i in range (max_iter):\n",
    "        alpha = 1/min(i+1, mn)\n",
    "        #нормализуем данные через sign\n",
    "        new_w = w - 2 * alpha * np.sign(np.dot(X.T, (np.dot(X, w) - y)) / y.shape[0] + 2 * alpha * np.sum(w))\n",
    "        errors_GD_L2.append(mserrorL2(X, new_w, y))\n",
    "        # вычислим разницу между последними значениями для реализации остановки\n",
    "        stop = abs(errors_GD_L2[-1] - errors_GD_L2[-2]) \n",
    "        w = new_w\n",
    "        if stop < 0.001:\n",
    "            break\n",
    "\n",
    "    return errors_GD_L2"
   ]
  },
  {
   "cell_type": "code",
   "execution_count": 10,
   "id": "ab129b54",
   "metadata": {},
   "outputs": [],
   "source": [
    "def st_L2(X,\n",
    "              y, \n",
    "              mn = 20 # константа, ограничивает шаг сходимости (1/min(iter_num+1, mn)),\n",
    "                      # чтобы он не стемился к нулю\n",
    "              ):\n",
    "    \n",
    "    #  шаг сходимости\n",
    "    alpha = 0\n",
    "    \n",
    "    # инициализируем начальный вектор весов\n",
    "    w = np.zeros(2)\n",
    "    \n",
    "    # список значений ошибок после каждой итерации\n",
    "    errors_SGD_L2 = [0,]\n",
    "\n",
    "    # максимальное число итераций\n",
    "    max_iter = 10000\n",
    "\n",
    "    # зададим начальную разницу весов большим числом\n",
    "    weight_dist = np.inf\n",
    "    \n",
    "    stop = 0\n",
    "    \n",
    "    \n",
    "    # ход градиентного спуска\n",
    "    for i in range (max_iter):\n",
    "        alpha = 1/min(i+1, mn)\n",
    "        \n",
    "        # генерируем случайный индекс объекта выборки\n",
    "        train_ind = np.random.randint(X.shape[0])\n",
    "        \n",
    "        #нормализуем данные через sign\n",
    "        new_w = w - 2 * alpha * np.sign(np.dot(X[train_ind].T, (np.dot(X[train_ind], w)/\n",
    "                                                  - y[train_ind])) / y.shape[0]  + 2 * alpha * np.sum(w))\n",
    "\n",
    "        errors_SGD_L2.append(mserror(X, new_w, y))\n",
    "        \n",
    "        # вычислим разницу между последними значениями для реализации остановки\n",
    "        stop = abs(errors_SGD_L2[-1] - errors_SGD_L2[-2]) \n",
    "        w = new_w\n",
    "        if stop < 0.001:\n",
    "            break\n",
    "\n",
    "    return errors_SGD_L2\n",
    "\n"
   ]
  },
  {
   "cell_type": "code",
   "execution_count": 11,
   "id": "ec1aa509",
   "metadata": {},
   "outputs": [],
   "source": [
    "errors_SGD_L2 = st_L2(data, target)\n",
    "errors_GD_L2 = gd_L2(data, target)"
   ]
  },
  {
   "cell_type": "code",
   "execution_count": 12,
   "id": "3aab54d7",
   "metadata": {},
   "outputs": [
    {
     "data": {
      "text/plain": [
       "Text(0, 0.5, 'MSE')"
      ]
     },
     "execution_count": 12,
     "metadata": {},
     "output_type": "execute_result"
    },
    {
     "data": {
      "image/png": "[encoded data removed]",
      "text/plain": [
       "<Figure size 1008x432 with 1 Axes>"
      ]
     },
     "metadata": {
      "needs_background": "light"
     },
     "output_type": "display_data"
    }
   ],
   "source": [
    "fig = plt.figure(figsize=(14, 6))\n",
    "plt.title('Linear regression', size=14)\n",
    "plt.plot(errors_SGD_L2, label='Stochastic Gradient Descent')\n",
    "plt.plot(errors_GD_L2 , label='Gradient Descent')\n",
    "plt.legend(loc='best', fontsize=14)\n",
    "plt.xlabel('n_iterations', size=14)\n",
    "plt.ylabel('MSE', size=14)"
   ]
  },
  {
   "cell_type": "markdown",
   "id": "723af2b7",
   "metadata": {},
   "source": [
    "Теперь для данного датасета получилось, что скорости сходимости обоих методов практически одинаковы"
   ]
  },
  {
   "cell_type": "markdown",
   "id": "f54e74d0",
   "metadata": {},
   "source": [
    "3 [опция]. Модернизировать решение задания 2, заменив L2 регуляризацию на L1 регуляризацию."
   ]
  },
  {
   "cell_type": "code",
   "execution_count": null,
   "id": "6a6d49e0",
   "metadata": {},
   "outputs": [],
   "source": []
  }
 ],
 "metadata": {
  "kernelspec": {
   "display_name": "Python 3",
   "language": "python",
   "name": "python3"
  },
  "language_info": {
   "codemirror_mode": {
    "name": "ipython",
    "version": 3
   },
   "file_extension": ".py",
   "mimetype": "text/x-python",
   "name": "python",
   "nbconvert_exporter": "python",
   "pygments_lexer": "ipython3",
   "version": "3.8.8"
  }
 },
 "nbformat": 4,
 "nbformat_minor": 5
}
